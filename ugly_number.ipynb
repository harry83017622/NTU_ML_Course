{
  "cells": [
    {
      "cell_type": "code",
      "execution_count": 80,
      "metadata": {
        "id": "puJqF_UHiykr"
      },
      "outputs": [],
      "source": [
        "# PyTorch\n",
        "import torch\n",
        "import torch.nn as nn\n",
        "from torch.utils.data import Dataset, DataLoader\n",
        "\n",
        "# For data preprocess\n",
        "import numpy as np\n",
        "import csv\n",
        "import os\n",
        "\n",
        "myseed = 5  # set a random seed for reproducibility\n",
        "torch.backends.cudnn.deterministic = True\n",
        "torch.backends.cudnn.benchmark = False\n",
        "np.random.seed(myseed)\n",
        "torch.manual_seed(myseed)\n",
        "if torch.cuda.is_available():\n",
        "    torch.cuda.manual_seed_all(myseed)"
      ]
    },
    {
      "cell_type": "code",
      "execution_count": 81,
      "metadata": {},
      "outputs": [],
      "source": [
        "from tensorboardX import SummaryWriter \n",
        "#SummaryWriter 是一個類別，包含這套件的所有功能。\n",
        "\n",
        "writer = SummaryWriter(comment='test')\n",
        "#在預設資料夾後面加上註解 檔名變為：'runs/Aug20-obov01-3xLR'"
      ]
    },
    {
      "cell_type": "code",
      "execution_count": 82,
      "metadata": {
        "colab": {
          "base_uri": "https://localhost:8080/"
        },
        "id": "0w9Ir3_tjBXs",
        "outputId": "e39b485c-9bae-489c-bc55-a79aa4810483"
      },
      "outputs": [
        {
          "name": "stdout",
          "output_type": "stream",
          "text": [
            "is available\n"
          ]
        }
      ],
      "source": [
        "if torch.cuda.is_available():\n",
        "  print(\"is available\")"
      ]
    },
    {
      "cell_type": "code",
      "execution_count": 83,
      "metadata": {
        "id": "EgnfPuXAjVE2"
      },
      "outputs": [],
      "source": [
        "class Model(nn.Module):\n",
        "  def __init__(self):\n",
        "    super(Model,self).__init__()\n",
        "    self.n1 = nn.Linear(1,32)\n",
        "    self.n2 = nn.Linear(32,2)\n",
        "    self.ac = nn.ReLU()\n",
        "    self.criterion = nn.CrossEntropyLoss()\n",
        "  def forward(self, x):\n",
        "    x = self.n1(x)\n",
        "    x = self.ac(x)\n",
        "    x = self.n2(x)\n",
        "    return x\n",
        "\n",
        "  def cal_loss(self, pred, target):\n",
        "    ''' Calculate loss '''\n",
        "    # TODO: you may implement L1/L2 regularization here\n",
        "    \n",
        "    return self.criterion(pred, target)\n",
        "  "
      ]
    },
    {
      "cell_type": "code",
      "execution_count": 84,
      "metadata": {
        "id": "eNOvw1WUkc__"
      },
      "outputs": [],
      "source": [
        "def train(tr_set, dv_set, model, config, device):\n",
        "    ''' DNN training '''\n",
        "\n",
        "    n_epochs = config['n_epochs']  # Maximum number of epochs\n",
        "\n",
        "    # Setup optimizer\n",
        "    optimizer = getattr(torch.optim, config['optimizer'])(\n",
        "        model.parameters(), **config['optim_hparas'])\n",
        "\n",
        "    min_loss = 1000.\n",
        "    loss_record = {'train': [], 'dev': []}      # for recording training loss\n",
        "    early_stop_cnt = 0\n",
        "    epoch = 0\n",
        "    iter_idx = 0\n",
        "    while epoch < n_epochs:\n",
        "        model.train()                           # set model to training mode\n",
        "        for x, y in tr_set:                     # iterate through the dataloader\n",
        "            optimizer.zero_grad()               # set gradient to zero\n",
        "            x, y = x.to(device), y.to(device)   # move data to device (cpu/cuda)\n",
        "            pred = model(x)                     # forward pass (compute output)\n",
        "            mse_loss = model.cal_loss(pred, y)  # compute loss\n",
        "            mse_loss.backward()                 # compute gradient (backpropagation)\n",
        "            optimizer.step()                    # update model with optimizer\n",
        "            loss_record['train'].append(mse_loss.detach().cpu().item())\n",
        "            writer.add_scalar('myscalar', mse_loss.detach().cpu().item(), iter_idx)\n",
        "            iter_idx+=1\n",
        "        # After each epoch, test your model on the validation (development) set.\n",
        "        dev_mse = dev(dv_set, model, device)\n",
        "        if dev_mse < min_loss:\n",
        "            # Save model if your model improved\n",
        "            min_loss = dev_mse\n",
        "            print('Saving model (epoch = {:4d}, loss = {:.4f})'\n",
        "                .format(epoch + 1, min_loss))\n",
        "            # torch.save(model.state_dict(), config['save_path'])  # Save model to specified path\n",
        "            early_stop_cnt = 0\n",
        "        else:\n",
        "            early_stop_cnt += 1\n",
        "\n",
        "        epoch += 1\n",
        "        loss_record['dev'].append(dev_mse)\n",
        "        if early_stop_cnt > config['early_stop']:\n",
        "            # Stop training if your model stops improving for \"config['early_stop']\" epochs.\n",
        "            break\n",
        "\n",
        "    print('Finished training after {} epochs'.format(epoch))\n",
        "    return min_loss, loss_record"
      ]
    },
    {
      "cell_type": "code",
      "execution_count": 85,
      "metadata": {
        "id": "MwwvL1DMmBBk"
      },
      "outputs": [],
      "source": [
        "def dev(dv_set, model, device):\n",
        "    model.eval()                                # set model to evalutation mode\n",
        "    total_loss = 0\n",
        "    \n",
        "    for x, y in dv_set:                         # iterate through the dataloader\n",
        "        x, y = x.to(device), y.to(device)       # move data to device (cpu/cuda)\n",
        "        with torch.no_grad():                   # disable gradient calculation\n",
        "            pred = model(x)                     # forward pass (compute output)\n",
        "            mse_loss = model.cal_loss(pred, y)  # compute loss\n",
        "        total_loss += mse_loss.detach().cpu().item() * len(x)  # accumulate loss\n",
        "        \n",
        "    \n",
        "    total_loss = total_loss / len(dv_set.dataset)              # compute averaged loss\n",
        "\n",
        "    return total_loss\n",
        "\n"
      ]
    },
    {
      "cell_type": "code",
      "execution_count": 86,
      "metadata": {
        "id": "qzt6pGIkkrzX"
      },
      "outputs": [],
      "source": [
        "\n",
        "\n",
        "def get_device():\n",
        "    ''' Get device (if GPU is available, use GPU) '''\n",
        "    return 'cuda' if torch.cuda.is_available() else 'cpu'\n",
        "\n",
        "device = get_device()                 # get the current available device ('cpu' or 'cuda')\n",
        "# os.makedirs('models', exist_ok=True)  # The trained model will be saved to ./models/\n",
        "target_only = True                    # TODO: Using 40 states & 2 tested_positive features\n",
        "\n",
        "# TODO: How to tune these hyper-parameters to improve your model's performance?\n",
        "config = {\n",
        "    'n_epochs': 3000,                # maximum number of epochs\n",
        "    'batch_size': 512,               # mini-batch size for dataloader\n",
        "    'optimizer': 'Adam',              # optimization algorithm (optimizer in torch.optim)\n",
        "    'optim_hparas': {                # hyper-parameters for the optimizer (depends on which optimizer you are using)\n",
        "        # 'lr': 0.001,                 # learning rate of SGD\n",
        "        # 'momentum': 0.9              # momentum for SGD\n",
        "    },\n",
        "    'early_stop': 200,               # early stopping epochs (the number epochs since your model's last improvement)\n",
        "    'save_path': 'models/model.pth'  # your model will be saved here\n",
        "}"
      ]
    },
    {
      "cell_type": "code",
      "execution_count": 87,
      "metadata": {
        "id": "Z_WyRtfukz-G"
      },
      "outputs": [],
      "source": [
        "model = Model().to(device)  # Construct model and move to device"
      ]
    },
    {
      "cell_type": "code",
      "execution_count": 88,
      "metadata": {
        "id": "t-Nusp3ztAyK"
      },
      "outputs": [],
      "source": [
        "class RandomDataset(Dataset):\n",
        "    ''' Dataset for loading and preprocessing the COVID19 dataset '''\n",
        "    def __init__(self,\n",
        "                 data,\n",
        "                 mode='train'):\n",
        "        self.mode = mode\n",
        "\n",
        "        target = data[1]\n",
        "        data = data[0]\n",
        "        \n",
        "        # Splitting training data into train & dev sets\n",
        "        if mode == 'train':\n",
        "            indices = [i for i in range(len(data)) if i % 10 != 0]\n",
        "        elif mode == 'dev':\n",
        "            indices = [i for i in range(len(data)) if i % 10 == 0]\n",
        "        \n",
        "        # Convert data into PyTorch tensors\n",
        "        self.data = data[indices].type(torch.FloatTensor)\n",
        "        # self.data = torch.FloatTensor(data[indices])\n",
        "        self.target = target[indices].type(torch.FloatTensor)\n",
        "        # self.target = torch.FloatTensor(target[indices])\n",
        "        \n",
        "        self.dim = self.data.shape[1]\n",
        "\n",
        "        print('Finished reading the {} set of COVID19 Dataset ({} samples found, each dim = {})'\n",
        "              .format(mode, len(self.data), self.dim))\n",
        "\n",
        "    def __getitem__(self, index):\n",
        "        # Returns one sample at a time\n",
        "        if self.mode in ['train', 'dev']:\n",
        "            # For training\n",
        "            return self.data[index], self.target[index]\n",
        "        else:\n",
        "            # For testing (no target)\n",
        "            return self.data[index]\n",
        "\n",
        "    def __len__(self):\n",
        "        # Returns the size of the dataset\n",
        "        return len(self.data)"
      ]
    },
    {
      "cell_type": "code",
      "execution_count": 89,
      "metadata": {
        "colab": {
          "base_uri": "https://localhost:8080/"
        },
        "id": "LHLESefMv7-u",
        "outputId": "5433c08e-bae1-4534-f09e-ae1434d060d3"
      },
      "outputs": [],
      "source": [
        "# dataset = RandomDataset((tr_x,tr_y), 'train', target_only=False)\n",
        "# a,b=dataset[0]\n",
        "# print(a,b)"
      ]
    },
    {
      "cell_type": "code",
      "execution_count": 90,
      "metadata": {
        "id": "XCEVNgS-qjl8"
      },
      "outputs": [],
      "source": [
        "def prep_dataloader(data, mode, batch_size):\n",
        "    ''' Generates a dataset, then is put into a dataloader. '''\n",
        "    dataset = RandomDataset(data, mode=mode)  # Construct dataset\n",
        "    dataloader = DataLoader(\n",
        "        dataset, batch_size,\n",
        "        shuffle=(mode == 'train'))                            # Construct dataloader\n",
        "    return dataloader"
      ]
    },
    {
      "cell_type": "code",
      "execution_count": 91,
      "metadata": {},
      "outputs": [],
      "source": [
        "def isUgly(n: int) -> bool:\n",
        "    def recursion(n):\n",
        "        if n==1:\n",
        "            return 1\n",
        "        elif n%2==0:\n",
        "            return recursion(n//2)\n",
        "        elif n%3==0:\n",
        "            return recursion(n//3)\n",
        "        elif n%5==0:\n",
        "            return recursion(n//5)\n",
        "        else:\n",
        "            return n\n",
        "    return recursion(n)==1 if n!=0 else False"
      ]
    },
    {
      "cell_type": "code",
      "execution_count": 92,
      "metadata": {
        "colab": {
          "base_uri": "https://localhost:8080/"
        },
        "id": "3qQjg04tmZAv",
        "outputId": "4e832245-882e-4dda-9f14-3b21dfaf2def"
      },
      "outputs": [
        {
          "name": "stdout",
          "output_type": "stream",
          "text": [
            "Finished reading the train set of COVID19 Dataset (58981 samples found, each dim = 1)\n",
            "Finished reading the dev set of COVID19 Dataset (6554 samples found, each dim = 1)\n"
          ]
        }
      ],
      "source": [
        "tr_x = torch.unsqueeze(torch.tensor(list(range(65535))),1) \n",
        "tr_y = []\n",
        "for i in tr_x:\n",
        "    if isUgly(i.item()):\n",
        "        \n",
        "        tr_y.append([0,1])\n",
        "    else:\n",
        "        # print(i.item())\n",
        "        tr_y.append([1,0])\n",
        "tr_y = torch.FloatTensor(tr_y)\n",
        "\n",
        "\n",
        "\n",
        "\n",
        "tr_set = prep_dataloader((tr_x,tr_y), 'train', config['batch_size'])\n",
        "dv_set = prep_dataloader((tr_x,tr_y), 'dev', config['batch_size'])\n",
        "\n"
      ]
    },
    {
      "cell_type": "code",
      "execution_count": 93,
      "metadata": {
        "id": "zrPRJYb2p3NP"
      },
      "outputs": [],
      "source": [
        "# for x in tr_set:\n",
        "#   print(x[0])"
      ]
    },
    {
      "cell_type": "code",
      "execution_count": 94,
      "metadata": {
        "colab": {
          "base_uri": "https://localhost:8080/"
        },
        "id": "hg9nhzl1poqQ",
        "outputId": "6ffb5000-7e87-4a1e-feec-88c7b9448a82"
      },
      "outputs": [
        {
          "name": "stdout",
          "output_type": "stream",
          "text": [
            "Saving model (epoch =    1, loss = 30.8009)\n",
            "Saving model (epoch =    8, loss = 11.7298)\n",
            "Saving model (epoch =    9, loss = 7.7608)\n",
            "Saving model (epoch =   10, loss = 1.6537)\n",
            "Saving model (epoch =   11, loss = 0.5873)\n",
            "Saving model (epoch =   12, loss = 0.5233)\n",
            "Saving model (epoch =   54, loss = 0.4664)\n",
            "Saving model (epoch =   88, loss = 0.3636)\n",
            "Saving model (epoch =  197, loss = 0.3042)\n",
            "Saving model (epoch =  230, loss = 0.1975)\n",
            "Saving model (epoch =  339, loss = 0.1892)\n",
            "Saving model (epoch =  429, loss = 0.1782)\n",
            "Saving model (epoch =  479, loss = 0.1342)\n",
            "Saving model (epoch =  596, loss = 0.1302)\n",
            "Saving model (epoch =  599, loss = 0.1266)\n",
            "Saving model (epoch =  662, loss = 0.1253)\n",
            "Saving model (epoch =  698, loss = 0.1157)\n",
            "Saving model (epoch =  762, loss = 0.1045)\n",
            "Saving model (epoch =  906, loss = 0.1019)\n",
            "Finished training after 1107 epochs\n"
          ]
        }
      ],
      "source": [
        "model_loss, model_loss_record = train(tr_set, dv_set, model, config, device)"
      ]
    },
    {
      "cell_type": "code",
      "execution_count": 79,
      "metadata": {},
      "outputs": [
        {
          "name": "stdout",
          "output_type": "stream",
          "text": [
            "n1.weight Parameter containing:\n",
            "tensor([[ 6.1239e-01],\n",
            "        [-7.4778e-01],\n",
            "        [ 2.6735e-01],\n",
            "        [ 4.7764e-01],\n",
            "        [ 7.6740e-01],\n",
            "        [-7.6671e-01],\n",
            "        [-6.7122e-01],\n",
            "        [ 3.0821e-01],\n",
            "        [ 1.2655e-01],\n",
            "        [ 6.9698e-01],\n",
            "        [-7.2747e-04],\n",
            "        [-2.1005e-04],\n",
            "        [-8.5518e-01],\n",
            "        [ 2.5731e-01],\n",
            "        [ 3.5271e-01],\n",
            "        [-9.2792e-04]], device='cuda:0', requires_grad=True)\n",
            "n1.bias Parameter containing:\n",
            "tensor([-0.2146,  0.3003, -3.4286,  1.4309,  1.1867, -0.4771, -0.9186,  1.1366,\n",
            "         1.0557, -0.5841, -1.3510, -0.7570, -0.4722,  0.6501,  0.1603, -0.4100],\n",
            "       device='cuda:0', requires_grad=True)\n",
            "n2.weight Parameter containing:\n",
            "tensor([[-0.2125, -0.0058,  0.1775,  0.1080,  0.2236, -0.2196, -0.0308,  0.2245,\n",
            "         -0.8865, -0.0778, -0.1659,  0.1848,  0.1898,  0.1692,  0.1868, -0.0123],\n",
            "        [ 0.1628, -0.0629,  0.1738, -0.0078, -0.0403, -0.1243,  0.1331,  0.1200,\n",
            "          1.0865, -0.1525, -0.1921,  0.1681, -0.1388, -0.1113, -0.0444, -0.0195]],\n",
            "       device='cuda:0', requires_grad=True)\n",
            "n2.bias Parameter containing:\n",
            "tensor([ 0.8787, -0.8466], device='cuda:0', requires_grad=True)\n"
          ]
        }
      ],
      "source": [
        "for name, param in model.named_parameters():\n",
        "    print(name,param)"
      ]
    }
  ],
  "metadata": {
    "accelerator": "GPU",
    "colab": {
      "collapsed_sections": [],
      "name": "multiply.ipynb",
      "provenance": []
    },
    "interpreter": {
      "hash": "05dc5e51229b50774b169ef5ffa039ce65916d6f91cab795517b782aabe33cfb"
    },
    "kernelspec": {
      "display_name": "Python 3.9.7 64-bit ('ml_playground': conda)",
      "name": "python3"
    },
    "language_info": {
      "codemirror_mode": {
        "name": "ipython",
        "version": 3
      },
      "file_extension": ".py",
      "mimetype": "text/x-python",
      "name": "python",
      "nbconvert_exporter": "python",
      "pygments_lexer": "ipython3",
      "version": "3.9.7"
    }
  },
  "nbformat": 4,
  "nbformat_minor": 0
}
