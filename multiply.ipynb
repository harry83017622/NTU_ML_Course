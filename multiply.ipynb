{
  "cells": [
    {
      "cell_type": "code",
      "execution_count": 29,
      "metadata": {
        "id": "puJqF_UHiykr"
      },
      "outputs": [],
      "source": [
        "# PyTorch\n",
        "import torch\n",
        "import torch.nn as nn\n",
        "from torch.utils.data import Dataset, DataLoader\n",
        "\n",
        "# For data preprocess\n",
        "import numpy as np\n",
        "import csv\n",
        "import os\n",
        "\n",
        "myseed = 5  # set a random seed for reproducibility\n",
        "torch.backends.cudnn.deterministic = True\n",
        "torch.backends.cudnn.benchmark = False\n",
        "np.random.seed(myseed)\n",
        "torch.manual_seed(myseed)\n",
        "if torch.cuda.is_available():\n",
        "    torch.cuda.manual_seed_all(myseed)"
      ]
    },
    {
      "cell_type": "code",
      "execution_count": 30,
      "metadata": {},
      "outputs": [],
      "source": [
        "from tensorboardX import SummaryWriter \n",
        "#SummaryWriter 是一個類別，包含這套件的所有功能。\n",
        "\n",
        "writer = SummaryWriter(comment='test')\n",
        "#在預設資料夾後面加上註解 檔名變為：'runs/Aug20-obov01-3xLR'"
      ]
    },
    {
      "cell_type": "code",
      "execution_count": 31,
      "metadata": {
        "colab": {
          "base_uri": "https://localhost:8080/"
        },
        "id": "0w9Ir3_tjBXs",
        "outputId": "e39b485c-9bae-489c-bc55-a79aa4810483"
      },
      "outputs": [
        {
          "name": "stdout",
          "output_type": "stream",
          "text": [
            "is available\n"
          ]
        }
      ],
      "source": [
        "if torch.cuda.is_available():\n",
        "  print(\"is available\")"
      ]
    },
    {
      "cell_type": "code",
      "execution_count": 32,
      "metadata": {
        "id": "EgnfPuXAjVE2"
      },
      "outputs": [],
      "source": [
        "class Model(nn.Module):\n",
        "  def __init__(self):\n",
        "    super(Model,self).__init__()\n",
        "    self.n1 = nn.Linear(2,1,bias=False)\n",
        "    self.n2 = nn.Linear(2,1,bias=False)\n",
        "    self.criterion = nn.MSELoss(reduction='mean')\n",
        "  def forward(self, x):\n",
        "    output = (self.n1(x)*self.n2(x)).squeeze(1)\n",
        "    return output\n",
        "\n",
        "  def cal_loss(self, pred, target):\n",
        "    ''' Calculate loss '''\n",
        "    # TODO: you may implement L1/L2 regularization here\n",
        "    \n",
        "    return self.criterion(pred, target)\n",
        "  "
      ]
    },
    {
      "cell_type": "code",
      "execution_count": 33,
      "metadata": {
        "id": "eNOvw1WUkc__"
      },
      "outputs": [],
      "source": [
        "def train(tr_set, dv_set, model, config, device):\n",
        "    ''' DNN training '''\n",
        "\n",
        "    n_epochs = config['n_epochs']  # Maximum number of epochs\n",
        "\n",
        "    # Setup optimizer\n",
        "    optimizer = getattr(torch.optim, config['optimizer'])(\n",
        "        model.parameters(), **config['optim_hparas'])\n",
        "\n",
        "    min_mse = 1000.\n",
        "    loss_record = {'train': [], 'dev': []}      # for recording training loss\n",
        "    early_stop_cnt = 0\n",
        "    epoch = 0\n",
        "    iter_idx = 0\n",
        "    while epoch < n_epochs:\n",
        "        model.train()                           # set model to training mode\n",
        "        for x, y in tr_set:                     # iterate through the dataloader\n",
        "            optimizer.zero_grad()               # set gradient to zero\n",
        "            x, y = x.to(device), y.to(device)   # move data to device (cpu/cuda)\n",
        "            pred = model(x)                     # forward pass (compute output)\n",
        "            mse_loss = model.cal_loss(pred, y)  # compute loss\n",
        "            mse_loss.backward()                 # compute gradient (backpropagation)\n",
        "            optimizer.step()                    # update model with optimizer\n",
        "            loss_record['train'].append(mse_loss.detach().cpu().item())\n",
        "            writer.add_scalar('myscalar', mse_loss.detach().cpu().item(), iter_idx)\n",
        "            iter_idx+=1\n",
        "        # After each epoch, test your model on the validation (development) set.\n",
        "        dev_mse = dev(dv_set, model, device)\n",
        "        if dev_mse < min_mse:\n",
        "            # Save model if your model improved\n",
        "            min_mse = dev_mse\n",
        "            print('Saving model (epoch = {:4d}, loss = {:.4f})'\n",
        "                .format(epoch + 1, min_mse))\n",
        "            torch.save(model.state_dict(), config['save_path'])  # Save model to specified path\n",
        "            early_stop_cnt = 0\n",
        "        else:\n",
        "            early_stop_cnt += 1\n",
        "\n",
        "        epoch += 1\n",
        "        loss_record['dev'].append(dev_mse)\n",
        "        if early_stop_cnt > config['early_stop']:\n",
        "            # Stop training if your model stops improving for \"config['early_stop']\" epochs.\n",
        "            break\n",
        "\n",
        "    print('Finished training after {} epochs'.format(epoch))\n",
        "    return min_mse, loss_record"
      ]
    },
    {
      "cell_type": "code",
      "execution_count": 34,
      "metadata": {
        "id": "MwwvL1DMmBBk"
      },
      "outputs": [],
      "source": [
        "def dev(dv_set, model, device):\n",
        "    model.eval()                                # set model to evalutation mode\n",
        "    total_loss = 0\n",
        "    \n",
        "    for x, y in dv_set:                         # iterate through the dataloader\n",
        "        x, y = x.to(device), y.to(device)       # move data to device (cpu/cuda)\n",
        "        with torch.no_grad():                   # disable gradient calculation\n",
        "            pred = model(x)                     # forward pass (compute output)\n",
        "            mse_loss = model.cal_loss(pred, y)  # compute loss\n",
        "        total_loss += mse_loss.detach().cpu().item() * len(x)  # accumulate loss\n",
        "        \n",
        "    \n",
        "    total_loss = total_loss / len(dv_set.dataset)              # compute averaged loss\n",
        "\n",
        "    return total_loss\n",
        "\n"
      ]
    },
    {
      "cell_type": "code",
      "execution_count": 35,
      "metadata": {
        "id": "qzt6pGIkkrzX"
      },
      "outputs": [],
      "source": [
        "\n",
        "\n",
        "def get_device():\n",
        "    ''' Get device (if GPU is available, use GPU) '''\n",
        "    return 'cuda' if torch.cuda.is_available() else 'cpu'\n",
        "\n",
        "device = get_device()                 # get the current available device ('cpu' or 'cuda')\n",
        "os.makedirs('models', exist_ok=True)  # The trained model will be saved to ./models/\n",
        "target_only = True                    # TODO: Using 40 states & 2 tested_positive features\n",
        "\n",
        "# TODO: How to tune these hyper-parameters to improve your model's performance?\n",
        "config = {\n",
        "    'n_epochs': 3000,                # maximum number of epochs\n",
        "    'batch_size': 150,               # mini-batch size for dataloader\n",
        "    'optimizer': 'Adam',              # optimization algorithm (optimizer in torch.optim)\n",
        "    'optim_hparas': {                # hyper-parameters for the optimizer (depends on which optimizer you are using)\n",
        "        # 'lr': 0.001,                 # learning rate of SGD\n",
        "        # 'momentum': 0.9              # momentum for SGD\n",
        "    },\n",
        "    'early_stop': 200,               # early stopping epochs (the number epochs since your model's last improvement)\n",
        "    'save_path': 'models/model.pth'  # your model will be saved here\n",
        "}"
      ]
    },
    {
      "cell_type": "code",
      "execution_count": 36,
      "metadata": {
        "id": "Z_WyRtfukz-G"
      },
      "outputs": [],
      "source": [
        "model = Model().to(device)  # Construct model and move to device"
      ]
    },
    {
      "cell_type": "code",
      "execution_count": 37,
      "metadata": {
        "id": "t-Nusp3ztAyK"
      },
      "outputs": [],
      "source": [
        "class RandomDataset(Dataset):\n",
        "    ''' Dataset for loading and preprocessing the COVID19 dataset '''\n",
        "    def __init__(self,\n",
        "                 data,\n",
        "                 mode='train',\n",
        "                 target_only=False):\n",
        "        self.mode = mode\n",
        "\n",
        "        target = data[1]\n",
        "        data = data[0]\n",
        "        \n",
        "        # Splitting training data into train & dev sets\n",
        "        if mode == 'train':\n",
        "            indices = [i for i in range(len(data)) if i % 10 != 0]\n",
        "        elif mode == 'dev':\n",
        "            indices = [i for i in range(len(data)) if i % 10 == 0]\n",
        "        \n",
        "        # Convert data into PyTorch tensors\n",
        "        self.data = data[indices].type(torch.FloatTensor)\n",
        "        # self.data = torch.FloatTensor(data[indices])\n",
        "        self.target = target[indices].type(torch.FloatTensor)\n",
        "        # self.target = torch.FloatTensor(target[indices])\n",
        "        \n",
        "        self.dim = self.data.shape[1]\n",
        "\n",
        "        print('Finished reading the {} set of COVID19 Dataset ({} samples found, each dim = {})'\n",
        "              .format(mode, len(self.data), self.dim))\n",
        "\n",
        "    def __getitem__(self, index):\n",
        "        # Returns one sample at a time\n",
        "        if self.mode in ['train', 'dev']:\n",
        "            # For training\n",
        "            return self.data[index], self.target[index]\n",
        "        else:\n",
        "            # For testing (no target)\n",
        "            return self.data[index]\n",
        "\n",
        "    def __len__(self):\n",
        "        # Returns the size of the dataset\n",
        "        return len(self.data)"
      ]
    },
    {
      "cell_type": "code",
      "execution_count": 38,
      "metadata": {
        "colab": {
          "base_uri": "https://localhost:8080/"
        },
        "id": "LHLESefMv7-u",
        "outputId": "5433c08e-bae1-4534-f09e-ae1434d060d3"
      },
      "outputs": [],
      "source": [
        "# dataset = RandomDataset((tr_x,tr_y), 'train', target_only=False)\n",
        "# a,b=dataset[0]\n",
        "# print(a,b)"
      ]
    },
    {
      "cell_type": "code",
      "execution_count": 39,
      "metadata": {
        "id": "XCEVNgS-qjl8"
      },
      "outputs": [],
      "source": [
        "def prep_dataloader(data, mode, batch_size, n_jobs=0, target_only=False):\n",
        "    ''' Generates a dataset, then is put into a dataloader. '''\n",
        "    dataset = RandomDataset(data, mode=mode, target_only=target_only)  # Construct dataset\n",
        "    dataloader = DataLoader(\n",
        "        dataset, batch_size,\n",
        "        shuffle=(mode == 'train'), drop_last=False,\n",
        "        num_workers=n_jobs, pin_memory=True)                            # Construct dataloader\n",
        "    return dataloader"
      ]
    },
    {
      "cell_type": "code",
      "execution_count": 40,
      "metadata": {
        "colab": {
          "base_uri": "https://localhost:8080/"
        },
        "id": "3qQjg04tmZAv",
        "outputId": "4e832245-882e-4dda-9f14-3b21dfaf2def"
      },
      "outputs": [
        {
          "name": "stdout",
          "output_type": "stream",
          "text": [
            "Finished reading the train set of COVID19 Dataset (2700 samples found, each dim = 2)\n",
            "Finished reading the dev set of COVID19 Dataset (300 samples found, each dim = 2)\n"
          ]
        }
      ],
      "source": [
        "tr_x = torch.randint(100,(3000,2))\n",
        "tr_y = tr_x[:,0]*tr_x[:,1]\n",
        "\n",
        "\n",
        "\n",
        "\n",
        "tr_set = prep_dataloader((tr_x,tr_y), 'train', config['batch_size'], target_only=target_only)\n",
        "dv_set = prep_dataloader((tr_x,tr_y), 'dev', config['batch_size'], target_only=target_only)\n",
        "\n"
      ]
    },
    {
      "cell_type": "code",
      "execution_count": 41,
      "metadata": {
        "id": "zrPRJYb2p3NP"
      },
      "outputs": [],
      "source": [
        "# for x in tr_set:\n",
        "#   print(x[0])"
      ]
    },
    {
      "cell_type": "code",
      "execution_count": 42,
      "metadata": {
        "colab": {
          "base_uri": "https://localhost:8080/"
        },
        "id": "hg9nhzl1poqQ",
        "outputId": "6ffb5000-7e87-4a1e-feec-88c7b9448a82"
      },
      "outputs": [
        {
          "name": "stdout",
          "output_type": "stream",
          "text": [
            "Saving model (epoch =  133, loss = 987.2016)\n",
            "Saving model (epoch =  134, loss = 936.7060)\n",
            "Saving model (epoch =  135, loss = 888.7576)\n",
            "Saving model (epoch =  136, loss = 842.6972)\n",
            "Saving model (epoch =  137, loss = 796.6219)\n",
            "Saving model (epoch =  138, loss = 755.0811)\n",
            "Saving model (epoch =  139, loss = 713.9149)\n",
            "Saving model (epoch =  140, loss = 674.8592)\n",
            "Saving model (epoch =  141, loss = 636.5764)\n",
            "Saving model (epoch =  142, loss = 601.2805)\n",
            "Saving model (epoch =  143, loss = 567.2397)\n",
            "Saving model (epoch =  144, loss = 534.5833)\n",
            "Saving model (epoch =  145, loss = 503.5683)\n",
            "Saving model (epoch =  146, loss = 473.8981)\n",
            "Saving model (epoch =  147, loss = 446.0073)\n",
            "Saving model (epoch =  148, loss = 419.5092)\n",
            "Saving model (epoch =  149, loss = 393.8761)\n",
            "Saving model (epoch =  150, loss = 369.7940)\n",
            "Saving model (epoch =  151, loss = 346.8821)\n",
            "Saving model (epoch =  152, loss = 325.2187)\n",
            "Saving model (epoch =  153, loss = 304.8078)\n",
            "Saving model (epoch =  154, loss = 285.1795)\n",
            "Saving model (epoch =  155, loss = 266.8489)\n",
            "Saving model (epoch =  156, loss = 249.0691)\n",
            "Saving model (epoch =  157, loss = 232.7217)\n",
            "Saving model (epoch =  158, loss = 217.4419)\n",
            "Saving model (epoch =  159, loss = 202.4808)\n",
            "Saving model (epoch =  160, loss = 188.8721)\n",
            "Saving model (epoch =  161, loss = 175.7824)\n",
            "Saving model (epoch =  162, loss = 163.5188)\n",
            "Saving model (epoch =  163, loss = 152.1360)\n",
            "Saving model (epoch =  164, loss = 141.2427)\n",
            "Saving model (epoch =  165, loss = 131.2090)\n",
            "Saving model (epoch =  166, loss = 121.7897)\n",
            "Saving model (epoch =  167, loss = 112.7695)\n",
            "Saving model (epoch =  168, loss = 104.4479)\n",
            "Saving model (epoch =  169, loss = 96.6408)\n",
            "Saving model (epoch =  170, loss = 89.3339)\n",
            "Saving model (epoch =  171, loss = 82.4268)\n",
            "Saving model (epoch =  172, loss = 76.1360)\n",
            "Saving model (epoch =  173, loss = 70.2337)\n",
            "Saving model (epoch =  174, loss = 64.6214)\n",
            "Saving model (epoch =  175, loss = 59.5552)\n",
            "Saving model (epoch =  176, loss = 54.7358)\n",
            "Saving model (epoch =  177, loss = 50.3546)\n",
            "Saving model (epoch =  178, loss = 46.2620)\n",
            "Saving model (epoch =  179, loss = 42.4154)\n",
            "Saving model (epoch =  180, loss = 38.8644)\n",
            "Saving model (epoch =  181, loss = 35.5892)\n",
            "Saving model (epoch =  182, loss = 32.6223)\n",
            "Saving model (epoch =  183, loss = 29.7833)\n",
            "Saving model (epoch =  184, loss = 27.2228)\n",
            "Saving model (epoch =  185, loss = 24.8379)\n",
            "Saving model (epoch =  186, loss = 22.6545)\n",
            "Saving model (epoch =  187, loss = 20.5843)\n",
            "Saving model (epoch =  188, loss = 18.7497)\n",
            "Saving model (epoch =  189, loss = 17.0365)\n",
            "Saving model (epoch =  190, loss = 15.4789)\n",
            "Saving model (epoch =  191, loss = 14.0300)\n",
            "Saving model (epoch =  192, loss = 12.7343)\n",
            "Saving model (epoch =  193, loss = 11.5284)\n",
            "Saving model (epoch =  194, loss = 10.4174)\n",
            "Saving model (epoch =  195, loss = 9.4279)\n",
            "Saving model (epoch =  196, loss = 8.5047)\n",
            "Saving model (epoch =  197, loss = 7.6595)\n",
            "Saving model (epoch =  198, loss = 6.9054)\n",
            "Saving model (epoch =  199, loss = 6.2161)\n",
            "Saving model (epoch =  200, loss = 5.5918)\n",
            "Saving model (epoch =  201, loss = 5.0227)\n",
            "Saving model (epoch =  202, loss = 4.5045)\n",
            "Saving model (epoch =  203, loss = 4.0346)\n",
            "Saving model (epoch =  204, loss = 3.6228)\n",
            "Saving model (epoch =  205, loss = 3.2339)\n",
            "Saving model (epoch =  206, loss = 2.8874)\n",
            "Saving model (epoch =  207, loss = 2.5761)\n",
            "Saving model (epoch =  208, loss = 2.2982)\n",
            "Saving model (epoch =  209, loss = 2.0456)\n",
            "Saving model (epoch =  210, loss = 1.8165)\n",
            "Saving model (epoch =  211, loss = 1.6165)\n",
            "Saving model (epoch =  212, loss = 1.4345)\n",
            "Saving model (epoch =  213, loss = 1.2714)\n",
            "Saving model (epoch =  214, loss = 1.1248)\n",
            "Saving model (epoch =  215, loss = 0.9948)\n",
            "Saving model (epoch =  216, loss = 0.8809)\n",
            "Saving model (epoch =  217, loss = 0.7759)\n",
            "Saving model (epoch =  218, loss = 0.6838)\n",
            "Saving model (epoch =  219, loss = 0.6006)\n",
            "Saving model (epoch =  220, loss = 0.5280)\n",
            "Saving model (epoch =  221, loss = 0.4622)\n",
            "Saving model (epoch =  222, loss = 0.4053)\n",
            "Saving model (epoch =  223, loss = 0.3552)\n",
            "Saving model (epoch =  224, loss = 0.3114)\n",
            "Saving model (epoch =  225, loss = 0.2718)\n",
            "Saving model (epoch =  226, loss = 0.2372)\n",
            "Saving model (epoch =  227, loss = 0.2061)\n",
            "Saving model (epoch =  228, loss = 0.1793)\n",
            "Saving model (epoch =  229, loss = 0.1558)\n",
            "Saving model (epoch =  230, loss = 0.1352)\n",
            "Saving model (epoch =  231, loss = 0.1168)\n",
            "Saving model (epoch =  232, loss = 0.1013)\n",
            "Saving model (epoch =  233, loss = 0.0875)\n",
            "Saving model (epoch =  234, loss = 0.0756)\n",
            "Saving model (epoch =  235, loss = 0.0649)\n",
            "Saving model (epoch =  236, loss = 0.0560)\n",
            "Saving model (epoch =  237, loss = 0.0481)\n",
            "Saving model (epoch =  238, loss = 0.0412)\n",
            "Saving model (epoch =  239, loss = 0.0354)\n",
            "Saving model (epoch =  240, loss = 0.0303)\n",
            "Saving model (epoch =  241, loss = 0.0258)\n",
            "Saving model (epoch =  242, loss = 0.0220)\n",
            "Saving model (epoch =  243, loss = 0.0187)\n",
            "Saving model (epoch =  244, loss = 0.0159)\n",
            "Saving model (epoch =  245, loss = 0.0135)\n",
            "Saving model (epoch =  246, loss = 0.0115)\n",
            "Saving model (epoch =  247, loss = 0.0097)\n",
            "Saving model (epoch =  248, loss = 0.0082)\n",
            "Saving model (epoch =  249, loss = 0.0069)\n",
            "Saving model (epoch =  250, loss = 0.0058)\n",
            "Saving model (epoch =  251, loss = 0.0049)\n",
            "Saving model (epoch =  252, loss = 0.0041)\n",
            "Saving model (epoch =  253, loss = 0.0035)\n",
            "Saving model (epoch =  254, loss = 0.0029)\n",
            "Saving model (epoch =  255, loss = 0.0024)\n",
            "Saving model (epoch =  256, loss = 0.0020)\n",
            "Saving model (epoch =  257, loss = 0.0017)\n",
            "Saving model (epoch =  258, loss = 0.0014)\n",
            "Saving model (epoch =  259, loss = 0.0012)\n",
            "Saving model (epoch =  260, loss = 0.0010)\n",
            "Saving model (epoch =  261, loss = 0.0008)\n",
            "Saving model (epoch =  262, loss = 0.0006)\n",
            "Saving model (epoch =  263, loss = 0.0005)\n",
            "Saving model (epoch =  264, loss = 0.0004)\n",
            "Saving model (epoch =  265, loss = 0.0003)\n",
            "Saving model (epoch =  266, loss = 0.0003)\n",
            "Saving model (epoch =  267, loss = 0.0002)\n",
            "Saving model (epoch =  268, loss = 0.0002)\n",
            "Saving model (epoch =  269, loss = 0.0002)\n",
            "Saving model (epoch =  270, loss = 0.0001)\n",
            "Saving model (epoch =  271, loss = 0.0001)\n",
            "Saving model (epoch =  272, loss = 0.0001)\n",
            "Saving model (epoch =  273, loss = 0.0001)\n",
            "Saving model (epoch =  274, loss = 0.0001)\n",
            "Saving model (epoch =  275, loss = 0.0001)\n",
            "Saving model (epoch =  276, loss = 0.0001)\n",
            "Saving model (epoch =  277, loss = 0.0000)\n",
            "Saving model (epoch =  278, loss = 0.0000)\n",
            "Saving model (epoch =  279, loss = 0.0000)\n",
            "Saving model (epoch =  280, loss = 0.0000)\n",
            "Saving model (epoch =  281, loss = 0.0000)\n",
            "Saving model (epoch =  282, loss = 0.0000)\n",
            "Saving model (epoch =  283, loss = 0.0000)\n",
            "Saving model (epoch =  284, loss = 0.0000)\n",
            "Saving model (epoch =  285, loss = 0.0000)\n",
            "Saving model (epoch =  286, loss = 0.0000)\n",
            "Saving model (epoch =  287, loss = 0.0000)\n",
            "Saving model (epoch =  288, loss = 0.0000)\n",
            "Saving model (epoch =  289, loss = 0.0000)\n",
            "Saving model (epoch =  291, loss = 0.0000)\n",
            "Saving model (epoch =  292, loss = 0.0000)\n",
            "Saving model (epoch =  293, loss = 0.0000)\n",
            "Saving model (epoch =  294, loss = 0.0000)\n",
            "Saving model (epoch =  298, loss = 0.0000)\n",
            "Saving model (epoch =  299, loss = 0.0000)\n",
            "Saving model (epoch =  300, loss = 0.0000)\n",
            "Saving model (epoch =  301, loss = 0.0000)\n",
            "Saving model (epoch =  303, loss = 0.0000)\n",
            "Saving model (epoch =  305, loss = 0.0000)\n",
            "Saving model (epoch =  308, loss = 0.0000)\n",
            "Saving model (epoch =  309, loss = 0.0000)\n",
            "Saving model (epoch =  310, loss = 0.0000)\n",
            "Saving model (epoch =  311, loss = 0.0000)\n",
            "Saving model (epoch =  312, loss = 0.0000)\n",
            "Saving model (epoch =  319, loss = 0.0000)\n",
            "Saving model (epoch =  320, loss = 0.0000)\n",
            "Saving model (epoch =  321, loss = 0.0000)\n",
            "Saving model (epoch =  322, loss = 0.0000)\n",
            "Saving model (epoch =  326, loss = 0.0000)\n",
            "Saving model (epoch =  328, loss = 0.0000)\n",
            "Saving model (epoch =  329, loss = 0.0000)\n",
            "Saving model (epoch =  330, loss = 0.0000)\n",
            "Saving model (epoch =  331, loss = 0.0000)\n",
            "Saving model (epoch =  332, loss = 0.0000)\n",
            "Saving model (epoch =  333, loss = 0.0000)\n",
            "Saving model (epoch =  334, loss = 0.0000)\n",
            "Saving model (epoch =  337, loss = 0.0000)\n",
            "Saving model (epoch =  338, loss = 0.0000)\n",
            "Saving model (epoch =  339, loss = 0.0000)\n",
            "Saving model (epoch =  341, loss = 0.0000)\n",
            "Saving model (epoch =  343, loss = 0.0000)\n",
            "Saving model (epoch =  344, loss = 0.0000)\n",
            "Saving model (epoch =  345, loss = 0.0000)\n",
            "Saving model (epoch =  346, loss = 0.0000)\n",
            "Saving model (epoch =  348, loss = 0.0000)\n",
            "Saving model (epoch =  349, loss = 0.0000)\n",
            "Saving model (epoch =  350, loss = 0.0000)\n",
            "Saving model (epoch =  351, loss = 0.0000)\n",
            "Saving model (epoch =  352, loss = 0.0000)\n",
            "Saving model (epoch =  353, loss = 0.0000)\n",
            "Saving model (epoch =  354, loss = 0.0000)\n",
            "Saving model (epoch =  356, loss = 0.0000)\n",
            "Saving model (epoch =  358, loss = 0.0000)\n",
            "Saving model (epoch =  359, loss = 0.0000)\n",
            "Saving model (epoch =  360, loss = 0.0000)\n",
            "Saving model (epoch =  361, loss = 0.0000)\n",
            "Saving model (epoch =  362, loss = 0.0000)\n",
            "Saving model (epoch =  364, loss = 0.0000)\n",
            "Saving model (epoch =  367, loss = 0.0000)\n",
            "Saving model (epoch =  369, loss = 0.0000)\n",
            "Saving model (epoch =  371, loss = 0.0000)\n",
            "Saving model (epoch =  372, loss = 0.0000)\n",
            "Saving model (epoch =  376, loss = 0.0000)\n",
            "Saving model (epoch =  377, loss = 0.0000)\n",
            "Saving model (epoch =  378, loss = 0.0000)\n",
            "Saving model (epoch =  379, loss = 0.0000)\n",
            "Saving model (epoch =  380, loss = 0.0000)\n",
            "Saving model (epoch =  381, loss = 0.0000)\n",
            "Saving model (epoch =  382, loss = 0.0000)\n",
            "Saving model (epoch =  384, loss = 0.0000)\n",
            "Saving model (epoch =  385, loss = 0.0000)\n",
            "Saving model (epoch =  387, loss = 0.0000)\n",
            "Saving model (epoch =  389, loss = 0.0000)\n",
            "Saving model (epoch =  390, loss = 0.0000)\n",
            "Saving model (epoch =  391, loss = 0.0000)\n",
            "Saving model (epoch =  393, loss = 0.0000)\n",
            "Saving model (epoch =  394, loss = 0.0000)\n",
            "Saving model (epoch =  396, loss = 0.0000)\n",
            "Saving model (epoch =  397, loss = 0.0000)\n",
            "Saving model (epoch =  398, loss = 0.0000)\n",
            "Saving model (epoch =  412, loss = 0.0000)\n",
            "Saving model (epoch =  415, loss = 0.0000)\n",
            "Saving model (epoch =  416, loss = 0.0000)\n",
            "Saving model (epoch =  419, loss = 0.0000)\n",
            "Saving model (epoch =  421, loss = 0.0000)\n",
            "Saving model (epoch =  425, loss = 0.0000)\n",
            "Saving model (epoch =  427, loss = 0.0000)\n",
            "Saving model (epoch =  428, loss = 0.0000)\n",
            "Saving model (epoch =  430, loss = 0.0000)\n",
            "Saving model (epoch =  431, loss = 0.0000)\n",
            "Saving model (epoch =  435, loss = 0.0000)\n",
            "Saving model (epoch =  454, loss = 0.0000)\n",
            "Saving model (epoch =  455, loss = 0.0000)\n",
            "Saving model (epoch =  456, loss = 0.0000)\n",
            "Saving model (epoch =  461, loss = 0.0000)\n",
            "Saving model (epoch =  463, loss = 0.0000)\n",
            "Saving model (epoch =  471, loss = 0.0000)\n",
            "Saving model (epoch =  472, loss = 0.0000)\n",
            "Saving model (epoch =  477, loss = 0.0000)\n",
            "Saving model (epoch =  478, loss = 0.0000)\n",
            "Saving model (epoch =  479, loss = 0.0000)\n",
            "Saving model (epoch =  483, loss = 0.0000)\n",
            "Saving model (epoch =  506, loss = 0.0000)\n",
            "Saving model (epoch =  509, loss = 0.0000)\n",
            "Saving model (epoch =  510, loss = 0.0000)\n",
            "Saving model (epoch =  518, loss = 0.0000)\n",
            "Saving model (epoch =  519, loss = 0.0000)\n",
            "Saving model (epoch =  542, loss = 0.0000)\n",
            "Saving model (epoch =  543, loss = 0.0000)\n",
            "Saving model (epoch =  544, loss = 0.0000)\n",
            "Saving model (epoch =  545, loss = 0.0000)\n",
            "Saving model (epoch =  547, loss = 0.0000)\n",
            "Saving model (epoch =  552, loss = 0.0000)\n",
            "Saving model (epoch =  553, loss = 0.0000)\n",
            "Saving model (epoch =  558, loss = 0.0000)\n",
            "Saving model (epoch =  568, loss = 0.0000)\n",
            "Saving model (epoch =  596, loss = 0.0000)\n",
            "Saving model (epoch =  597, loss = 0.0000)\n",
            "Saving model (epoch =  609, loss = 0.0000)\n",
            "Saving model (epoch =  612, loss = 0.0000)\n",
            "Saving model (epoch =  616, loss = 0.0000)\n",
            "Saving model (epoch =  628, loss = 0.0000)\n",
            "Saving model (epoch =  653, loss = 0.0000)\n",
            "Saving model (epoch =  666, loss = 0.0000)\n",
            "Saving model (epoch =  667, loss = 0.0000)\n",
            "Saving model (epoch =  677, loss = 0.0000)\n",
            "Saving model (epoch =  681, loss = 0.0000)\n",
            "Saving model (epoch =  717, loss = 0.0000)\n",
            "Saving model (epoch =  753, loss = 0.0000)\n",
            "Saving model (epoch =  941, loss = 0.0000)\n",
            "Saving model (epoch =  944, loss = 0.0000)\n",
            "Saving model (epoch = 1129, loss = 0.0000)\n",
            "Saving model (epoch = 1130, loss = 0.0000)\n",
            "Saving model (epoch = 1136, loss = 0.0000)\n",
            "Saving model (epoch = 1145, loss = 0.0000)\n",
            "Saving model (epoch = 1214, loss = 0.0000)\n",
            "Finished training after 1415 epochs\n"
          ]
        }
      ],
      "source": [
        "model_loss, model_loss_record = train(tr_set, dv_set, model, config, device)"
      ]
    },
    {
      "cell_type": "code",
      "execution_count": 43,
      "metadata": {
        "colab": {
          "base_uri": "https://localhost:8080/"
        },
        "id": "KOO0arRD3hAg",
        "outputId": "eccb1d1a-084d-4cc8-b6a2-df66c8bea5ae"
      },
      "outputs": [
        {
          "name": "stdout",
          "output_type": "stream",
          "text": [
            "tensor([[ 8.7371e-01, -6.7276e-07]], device='cuda:0')\n",
            "tensor([[1.7575e-06, 1.1445e+00]], device='cuda:0')\n"
          ]
        }
      ],
      "source": [
        "for param in model.parameters():\n",
        "  print(param.data)"
      ]
    },
    {
      "cell_type": "code",
      "execution_count": 16,
      "metadata": {
        "colab": {
          "base_uri": "https://localhost:8080/"
        },
        "id": "hUBxGEVi4Fd8",
        "outputId": "eef7fcd0-5110-4cfe-d97d-6db085f1d849"
      },
      "outputs": [
        {
          "name": "stdout",
          "output_type": "stream",
          "text": [
            "tensor([[1., 1., 1., 1.]])\n"
          ]
        }
      ],
      "source": [
        "m = Model(4)\n",
        "m.load_state_dict(torch.load('models/model.pth'))\n",
        "for param in m.parameters():\n",
        "  print(param.data)"
      ]
    }
  ],
  "metadata": {
    "accelerator": "GPU",
    "colab": {
      "collapsed_sections": [],
      "name": "multiply.ipynb",
      "provenance": []
    },
    "interpreter": {
      "hash": "05dc5e51229b50774b169ef5ffa039ce65916d6f91cab795517b782aabe33cfb"
    },
    "kernelspec": {
      "display_name": "Python 3.9.7 64-bit ('ml_playground': conda)",
      "name": "python3"
    },
    "language_info": {
      "codemirror_mode": {
        "name": "ipython",
        "version": 3
      },
      "file_extension": ".py",
      "mimetype": "text/x-python",
      "name": "python",
      "nbconvert_exporter": "python",
      "pygments_lexer": "ipython3",
      "version": "3.9.7"
    }
  },
  "nbformat": 4,
  "nbformat_minor": 0
}
